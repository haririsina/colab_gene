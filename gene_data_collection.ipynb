{
  "nbformat": 4,
  "nbformat_minor": 0,
  "metadata": {
    "colab": {
      "provenance": [],
      "authorship_tag": "ABX9TyO9Smo8FMMxcapLy3DtD7Fy",
      "include_colab_link": true
    },
    "kernelspec": {
      "name": "python3",
      "display_name": "Python 3"
    },
    "language_info": {
      "name": "python"
    }
  },
  "cells": [
    {
      "cell_type": "markdown",
      "metadata": {
        "id": "view-in-github",
        "colab_type": "text"
      },
      "source": [
        "<a href=\"https://colab.research.google.com/github/haririsina/colab_gene/blob/main/gene_data_collection.ipynb\" target=\"_parent\"><img src=\"https://colab.research.google.com/assets/colab-badge.svg\" alt=\"Open In Colab\"/></a>"
      ]
    },
    {
      "cell_type": "code",
      "execution_count": 2,
      "metadata": {
        "colab": {
          "base_uri": "https://localhost:8080/"
        },
        "id": "gIDGYJVqlkqJ",
        "outputId": "e61b10f1-b3d1-4f91-8cbe-3b20c7c6e5a6"
      },
      "outputs": [
        {
          "output_type": "stream",
          "name": "stdout",
          "text": [
            "Looking in indexes: https://pypi.org/simple, https://us-python.pkg.dev/colab-wheels/public/simple/\n",
            "Collecting GEOparse\n",
            "  Downloading GEOparse-2.0.3.tar.gz (278 kB)\n",
            "\u001b[2K     \u001b[90m━━━━━━━━━━━━━━━━━━━━━━━━━━━━━━━━━━━━━━━\u001b[0m \u001b[32m278.5/278.5 KB\u001b[0m \u001b[31m7.4 MB/s\u001b[0m eta \u001b[36m0:00:00\u001b[0m\n",
            "\u001b[?25h  Preparing metadata (setup.py) ... \u001b[?25l\u001b[?25hdone\n",
            "Requirement already satisfied: numpy>=1.7 in /usr/local/lib/python3.8/dist-packages (from GEOparse) (1.21.6)\n",
            "Requirement already satisfied: pandas>=0.17 in /usr/local/lib/python3.8/dist-packages (from GEOparse) (1.3.5)\n",
            "Requirement already satisfied: requests>=2.21.0 in /usr/local/lib/python3.8/dist-packages (from GEOparse) (2.25.1)\n",
            "Requirement already satisfied: tqdm>=4.31.1 in /usr/local/lib/python3.8/dist-packages (from GEOparse) (4.64.1)\n",
            "Requirement already satisfied: python-dateutil>=2.7.3 in /usr/local/lib/python3.8/dist-packages (from pandas>=0.17->GEOparse) (2.8.2)\n",
            "Requirement already satisfied: pytz>=2017.3 in /usr/local/lib/python3.8/dist-packages (from pandas>=0.17->GEOparse) (2022.7)\n",
            "Requirement already satisfied: chardet<5,>=3.0.2 in /usr/local/lib/python3.8/dist-packages (from requests>=2.21.0->GEOparse) (4.0.0)\n",
            "Requirement already satisfied: urllib3<1.27,>=1.21.1 in /usr/local/lib/python3.8/dist-packages (from requests>=2.21.0->GEOparse) (1.24.3)\n",
            "Requirement already satisfied: certifi>=2017.4.17 in /usr/local/lib/python3.8/dist-packages (from requests>=2.21.0->GEOparse) (2022.12.7)\n",
            "Requirement already satisfied: idna<3,>=2.5 in /usr/local/lib/python3.8/dist-packages (from requests>=2.21.0->GEOparse) (2.10)\n",
            "Requirement already satisfied: six>=1.5 in /usr/local/lib/python3.8/dist-packages (from python-dateutil>=2.7.3->pandas>=0.17->GEOparse) (1.15.0)\n",
            "Building wheels for collected packages: GEOparse\n",
            "  Building wheel for GEOparse (setup.py) ... \u001b[?25l\u001b[?25hdone\n",
            "  Created wheel for GEOparse: filename=GEOparse-2.0.3-py3-none-any.whl size=29064 sha256=2fe8edaebc314492b1ce79c9df43101837894dc54ef42eca0eb9af6d9532f299\n",
            "  Stored in directory: /root/.cache/pip/wheels/7a/75/14/727a857e321c5e5590d7e58efe9f028d753d340cea4ee540f0\n",
            "Successfully built GEOparse\n",
            "Installing collected packages: GEOparse\n",
            "Successfully installed GEOparse-2.0.3\n"
          ]
        }
      ],
      "source": [
        "! pip install GEOparse"
      ]
    },
    {
      "cell_type": "code",
      "source": [
        "import GEOparse\n",
        "\n",
        "gse = GEOparse.get_GEO(geo=\"GSE99039\", destdir=\"./\")\n",
        "\n",
        "print()\n",
        "print(\"GSM example:\")\n",
        "gsm_list = []\n",
        "for gsm_name, gsm in gse.gsms.items():\n",
        "    print(\"Name: \", gsm_name)\n",
        "    print(\"Metadata:\",)\n",
        "    \n",
        "    meta_dict = {}\n",
        "    for key, value in gsm.metadata.items():\n",
        "        print(\" - %s : %s\" % (key, \", \".join(value)))\n",
        "        meta_dict[key] = value\n",
        "    \n",
        "    temp_dict = {\n",
        "        'name': gsm_name,\n",
        "        'metadata': meta_dict,\n",
        "        }\n",
        "    \n",
        "    gsm_list.append(temp_dict)\n",
        "\n",
        "    # print (\"Table data:\",)\n",
        "    # print (gsm.table.head())\n",
        "    # break\n",
        "\n",
        "print()\n",
        "print(\"GPL example:\")\n",
        "gpl_list = []\n",
        "for gpl_name, gpl in gse.gpls.items():\n",
        "    print(\"Name: \", gpl_name)\n",
        "    print(\"Metadata:\",)\n",
        "    \n",
        "    meta_dict = {}\n",
        "    for key, value in gpl.metadata.items():\n",
        "        print(\" - %s : %s\" % (key, \", \".join(value)))\n",
        "        meta_dict[key] = value\n",
        "\n",
        "        temp_dict = {\n",
        "        'name': gsm_name,\n",
        "        'metadata': meta_dict,\n",
        "        }\n",
        "    \n",
        "    gpl_list.append(temp_dict)\n",
        "\n",
        "    # print(\"Table data:\",)\n",
        "    # print(gpl.table.head())\n",
        "    # break\n",
        "\n",
        "print(len(gsm_list))\n",
        "print(gsm_list[0])\n",
        "print(len(gpl_list))\n",
        "print(gpl_list[0])\n"
      ],
      "metadata": {
        "id": "DQufj0tOlqJn"
      },
      "execution_count": null,
      "outputs": []
    }
  ]
}